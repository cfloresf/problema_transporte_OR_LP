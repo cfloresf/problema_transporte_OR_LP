{
 "cells": [
  {
   "cell_type": "markdown",
   "id": "524bcbb2-e735-4741-9c95-9a2a3e8d0641",
   "metadata": {},
   "source": [
    "# Modelo de Transporte- PL"
   ]
  },
  {
   "cell_type": "code",
   "execution_count": 1,
   "id": "66949517-7fba-4391-ac49-49df4f6176ea",
   "metadata": {},
   "outputs": [],
   "source": [
    "# El problema de transporte, en su forma más básica consiste en determinar \n",
    "# cuanto debo enviar desde uno o más origenes a n destinos, con el objetivo de satisfacer la demanda\n",
    "# de los destinos sujeto a restricciones de disponibilidad en los origenes. Enviar una cantidad desde un origen a un destino, cuesta dinero, tarda tiempo, etc.\n",
    "# Lo que se desea en este ejemplo es minimizar el costo del transporte, y se cuenta con 3 centros de Distribución (CDs) y 4 destinos, que corresponden a locales de venta."
   ]
  },
  {
   "cell_type": "markdown",
   "id": "35c0f343-8709-4ce1-8fdb-f4b9c1c1e123",
   "metadata": {},
   "source": [
    "### Importación de Librerías y Módulos"
   ]
  },
  {
   "cell_type": "code",
   "execution_count": 2,
   "id": "7065a343-1ada-4f40-ba5f-98834e9bcc69",
   "metadata": {},
   "outputs": [],
   "source": [
    "import pandas as pd\n",
    "import numpy as np\n",
    "import pulp"
   ]
  },
  {
   "cell_type": "markdown",
   "id": "9263c8c3-2361-48c0-a1f9-a986bf0fc040",
   "metadata": {},
   "source": [
    "### Parámetros del Modelo"
   ]
  },
  {
   "cell_type": "code",
   "execution_count": 3,
   "id": "6fb6cc5a-daf4-48b3-bab2-3d1605cb54af",
   "metadata": {},
   "outputs": [],
   "source": [
    "# 4 tiendas son abastecidas desde 3 centros de distribución. Los requerimientos de las tiendas \n",
    "# se definen en las siguientes variables"
   ]
  },
  {
   "cell_type": "code",
   "execution_count": 4,
   "id": "19b9214a-e045-4136-9631-5abea2fe6103",
   "metadata": {},
   "outputs": [],
   "source": [
    "locales = [\"a\",\"b\",\"c\",\"d\"]\n",
    "requerimientos_local =  {\"a\":80, \"b\":65, \"c\":70,\"d\":85} # el local a requiere 80 unidades, el b 65 y así."
   ]
  },
  {
   "cell_type": "code",
   "execution_count": 5,
   "id": "874d1a8f-367c-4320-b2d7-45d63fb0bae7",
   "metadata": {},
   "outputs": [
    {
     "data": {
      "text/plain": [
       "300"
      ]
     },
     "execution_count": 5,
     "metadata": {},
     "output_type": "execute_result"
    }
   ],
   "source": [
    "sum(requerimientos_local.values())"
   ]
  },
  {
   "cell_type": "code",
   "execution_count": 6,
   "id": "6410366e-aab6-4520-859a-074c0fb8cee6",
   "metadata": {},
   "outputs": [],
   "source": [
    "# Respecto de los CDs, los datos de disponibilidad y Costo de trasnporte desde cada CD a cada local,\n",
    "# se encuentran en el csv adjunto."
   ]
  },
  {
   "cell_type": "code",
   "execution_count": 8,
   "id": "8ee6499d-bbf7-4612-903d-0ae9a6e6cd1e",
   "metadata": {},
   "outputs": [],
   "source": [
    "datos = pd.read_csv('datos_transporte.csv', sep = ';') # ruta del archivo, separado por ;"
   ]
  },
  {
   "cell_type": "code",
   "execution_count": 9,
   "id": "67936821-f435-48e1-887b-0dfc14700a85",
   "metadata": {},
   "outputs": [
    {
     "data": {
      "text/html": [
       "<div>\n",
       "<style scoped>\n",
       "    .dataframe tbody tr th:only-of-type {\n",
       "        vertical-align: middle;\n",
       "    }\n",
       "\n",
       "    .dataframe tbody tr th {\n",
       "        vertical-align: top;\n",
       "    }\n",
       "\n",
       "    .dataframe thead th {\n",
       "        text-align: right;\n",
       "    }\n",
       "</style>\n",
       "<table border=\"1\" class=\"dataframe\">\n",
       "  <thead>\n",
       "    <tr style=\"text-align: right;\">\n",
       "      <th></th>\n",
       "      <th>Centros de Distribucion</th>\n",
       "      <th>Disponibilidad</th>\n",
       "      <th>a</th>\n",
       "      <th>b</th>\n",
       "      <th>c</th>\n",
       "      <th>d</th>\n",
       "    </tr>\n",
       "  </thead>\n",
       "  <tbody>\n",
       "    <tr>\n",
       "      <th>0</th>\n",
       "      <td>1</td>\n",
       "      <td>75</td>\n",
       "      <td>46</td>\n",
       "      <td>51</td>\n",
       "      <td>65</td>\n",
       "      <td>86</td>\n",
       "    </tr>\n",
       "    <tr>\n",
       "      <th>1</th>\n",
       "      <td>2</td>\n",
       "      <td>125</td>\n",
       "      <td>35</td>\n",
       "      <td>41</td>\n",
       "      <td>69</td>\n",
       "      <td>79</td>\n",
       "    </tr>\n",
       "    <tr>\n",
       "      <th>2</th>\n",
       "      <td>3</td>\n",
       "      <td>100</td>\n",
       "      <td>99</td>\n",
       "      <td>68</td>\n",
       "      <td>38</td>\n",
       "      <td>68</td>\n",
       "    </tr>\n",
       "  </tbody>\n",
       "</table>\n",
       "</div>"
      ],
      "text/plain": [
       "   Centros de Distribucion  Disponibilidad   a   b   c   d\n",
       "0                        1              75  46  51  65  86\n",
       "1                        2             125  35  41  69  79\n",
       "2                        3             100  99  68  38  68"
      ]
     },
     "execution_count": 9,
     "metadata": {},
     "output_type": "execute_result"
    }
   ],
   "source": [
    "datos"
   ]
  },
  {
   "cell_type": "code",
   "execution_count": 10,
   "id": "b7394acd-ea99-4f58-8016-8b8b10dad4ea",
   "metadata": {},
   "outputs": [
    {
     "data": {
      "text/plain": [
       "300"
      ]
     },
     "execution_count": 10,
     "metadata": {},
     "output_type": "execute_result"
    }
   ],
   "source": [
    "datos[\"Disponibilidad\"].sum()"
   ]
  },
  {
   "cell_type": "code",
   "execution_count": 11,
   "id": "d76e0cf0-d7da-4cdd-a105-0e7bb90d0258",
   "metadata": {},
   "outputs": [],
   "source": [
    "#### Se definen los conjuntos y parámetros faltantes"
   ]
  },
  {
   "cell_type": "code",
   "execution_count": 12,
   "id": "c5661858-f5eb-406a-8f2c-1642c69b6a82",
   "metadata": {},
   "outputs": [
    {
     "data": {
      "text/plain": [
       "[1, 2, 3]"
      ]
     },
     "execution_count": 12,
     "metadata": {},
     "output_type": "execute_result"
    }
   ],
   "source": [
    "cds = list(datos[\"Centros de Distribucion\"])\n",
    "cds"
   ]
  },
  {
   "cell_type": "code",
   "execution_count": 13,
   "id": "10ca376c-f2a9-48bd-86ae-32daa4198c94",
   "metadata": {},
   "outputs": [
    {
     "data": {
      "text/plain": [
       "{1: 75, 2: 125, 3: 100}"
      ]
     },
     "execution_count": 13,
     "metadata": {},
     "output_type": "execute_result"
    }
   ],
   "source": [
    "disponibilidad_cd = {\n",
    "    cd: datos.loc[datos[\"Centros de Distribucion\"] == cd, \"Disponibilidad\"].iloc[0]\n",
    "    for cd in cds\n",
    "}\n",
    "disponibilidad_cd"
   ]
  },
  {
   "cell_type": "code",
   "execution_count": 14,
   "id": "e6f0f59b-6d57-4047-b070-b62b1ab1d4f7",
   "metadata": {},
   "outputs": [],
   "source": [
    "#### matriz de costos"
   ]
  },
  {
   "cell_type": "code",
   "execution_count": 15,
   "id": "0f0b6d75-ef40-4def-9e49-611bfb1e590f",
   "metadata": {},
   "outputs": [
    {
     "data": {
      "text/plain": [
       "{(1, 'a'): 46,\n",
       " (1, 'b'): 51,\n",
       " (1, 'c'): 65,\n",
       " (1, 'd'): 86,\n",
       " (2, 'a'): 35,\n",
       " (2, 'b'): 41,\n",
       " (2, 'c'): 69,\n",
       " (2, 'd'): 79,\n",
       " (3, 'a'): 99,\n",
       " (3, 'b'): 68,\n",
       " (3, 'c'): 38,\n",
       " (3, 'd'): 68}"
      ]
     },
     "execution_count": 15,
     "metadata": {},
     "output_type": "execute_result"
    }
   ],
   "source": [
    "costos = {\n",
    "    (cd, local): datos.loc[datos[\"Centros de Distribucion\"] == cd, local].iloc[0]\n",
    "    for cd in cds for local in locales\n",
    "}\n",
    "costos"
   ]
  },
  {
   "cell_type": "markdown",
   "id": "7ed3ca01-ddf3-4987-af53-ed1671d9383b",
   "metadata": {},
   "source": [
    "### Formulación del Problema"
   ]
  },
  {
   "cell_type": "code",
   "execution_count": 16,
   "id": "e5e588a3-bbc3-4da3-977b-8bf51b3b91c7",
   "metadata": {},
   "outputs": [],
   "source": [
    "def get_problem(locales, requerimientos_local, cds, disponibilidad_cd, costos):\n",
    "    # instanciar el problema\n",
    "    problem = pulp.LpProblem(\"Minimizar_Costos_Transporte\", pulp.LpMinimize)\n",
    "\n",
    "    # definición de variables\n",
    "\n",
    "    # cantidad a enviar desde el centro de distribucion c al local l\n",
    "    X = pulp.LpVariable.dicts(\"X\", ((c, l) for c in cds for l in locales), lowBound=0, cat='Continuous')\n",
    "    \n",
    "    # definición de la función objetivo: minimizar los costos\n",
    "    problem += pulp.lpSum(costos[(c,l)] * X[(c,l)] for c in cds for l in locales )\n",
    "\n",
    "    # definicón de las restricciones\n",
    "\n",
    "    # lo que se envía de cada CD debe ser menor o igual a la disponibilidad en ese CD \n",
    "    for c in cds:\n",
    "        problem += pulp.lpSum(X[(c,l)] for l in locales) <= disponibilidad_cd[c]\n",
    "\n",
    "    # para cada local, lo que se envía debe ser igual a su requerimiento\n",
    "    for l in locales:\n",
    "        problem += pulp.lpSum(X[(c,l)] for c in cds) == requerimientos_local[l]\n",
    "\n",
    "    return problem, X\n"
   ]
  },
  {
   "cell_type": "markdown",
   "id": "c02ca30a-7c67-4b48-bd04-694573c9dcf7",
   "metadata": {},
   "source": [
    "### Solución del Problema"
   ]
  },
  {
   "cell_type": "code",
   "execution_count": 17,
   "id": "69221577-1825-4fc3-869d-0e5126c426c1",
   "metadata": {},
   "outputs": [],
   "source": [
    "problema, x = get_problem(locales, requerimientos_local, cds, disponibilidad_cd, costos)"
   ]
  },
  {
   "cell_type": "code",
   "execution_count": 18,
   "id": "935f809e-b317-4bbc-95a1-d270b0133905",
   "metadata": {},
   "outputs": [
    {
     "data": {
      "text/plain": [
       "1"
      ]
     },
     "execution_count": 18,
     "metadata": {},
     "output_type": "execute_result"
    }
   ],
   "source": [
    "problema.solve(pulp.PULP_CBC_CMD(msg=True))"
   ]
  },
  {
   "cell_type": "code",
   "execution_count": 19,
   "id": "e414845f-5c11-4561-a254-5355e157603d",
   "metadata": {},
   "outputs": [
    {
     "name": "stdout",
     "output_type": "stream",
     "text": [
      "Estado: Optimal\n",
      "Costo total: 15095.0\n"
     ]
    }
   ],
   "source": [
    "# Imprimir resultados\n",
    "print(f\"Estado: {pulp.LpStatus[problema.status]}\")\n",
    "print(f\"Costo total: {pulp.value(problema.objective)}\")"
   ]
  },
  {
   "cell_type": "code",
   "execution_count": 20,
   "id": "57dd17c9-0f02-4532-bd21-119c7c51db21",
   "metadata": {},
   "outputs": [],
   "source": [
    "lista_cds=[]\n",
    "lista_locales=[]\n",
    "lista_q =[]\n",
    "for c in cds:\n",
    "    for l in locales:\n",
    "        lista_cds.append(c)\n",
    "        lista_locales.append(l)\n",
    "        lista_q.append(x[(c, l)].varValue) "
   ]
  },
  {
   "cell_type": "code",
   "execution_count": 21,
   "id": "31a746d5-f555-4705-8206-7f35a05c7965",
   "metadata": {},
   "outputs": [],
   "source": [
    "output = pd.DataFrame({\"CD\":lista_cds\n",
    "                       ,\"Local\":lista_locales\n",
    "                       ,\"Cantidad a Enviar\": lista_q}\n",
    "                     )"
   ]
  },
  {
   "cell_type": "code",
   "execution_count": 22,
   "id": "f9c0b6b4-067e-4751-881e-0a81a0dcdd34",
   "metadata": {},
   "outputs": [],
   "source": [
    "output[\"costo unitario\"] = [(c,l) for c in cds for l in locales] "
   ]
  },
  {
   "cell_type": "code",
   "execution_count": 23,
   "id": "481ad6fd-d076-4cd9-9166-8887174fc8ab",
   "metadata": {},
   "outputs": [],
   "source": [
    "output[\"costo unitario\"] = output[\"costo unitario\"].map(costos)"
   ]
  },
  {
   "cell_type": "code",
   "execution_count": 24,
   "id": "f4daf538-b2be-42a3-b248-374398ed9d99",
   "metadata": {},
   "outputs": [],
   "source": [
    "output[\"costo\"] = output[\"costo unitario\"] * output[\"Cantidad a Enviar\"]"
   ]
  },
  {
   "cell_type": "code",
   "execution_count": 25,
   "id": "ce181286-2872-43d7-8927-d06c4a6d6ab1",
   "metadata": {},
   "outputs": [
    {
     "data": {
      "text/html": [
       "<div>\n",
       "<style scoped>\n",
       "    .dataframe tbody tr th:only-of-type {\n",
       "        vertical-align: middle;\n",
       "    }\n",
       "\n",
       "    .dataframe tbody tr th {\n",
       "        vertical-align: top;\n",
       "    }\n",
       "\n",
       "    .dataframe thead th {\n",
       "        text-align: right;\n",
       "    }\n",
       "</style>\n",
       "<table border=\"1\" class=\"dataframe\">\n",
       "  <thead>\n",
       "    <tr style=\"text-align: right;\">\n",
       "      <th></th>\n",
       "      <th>CD</th>\n",
       "      <th>Local</th>\n",
       "      <th>Cantidad a Enviar</th>\n",
       "      <th>costo unitario</th>\n",
       "      <th>costo</th>\n",
       "    </tr>\n",
       "  </thead>\n",
       "  <tbody>\n",
       "    <tr>\n",
       "      <th>0</th>\n",
       "      <td>1</td>\n",
       "      <td>a</td>\n",
       "      <td>0.0</td>\n",
       "      <td>46</td>\n",
       "      <td>0.0</td>\n",
       "    </tr>\n",
       "    <tr>\n",
       "      <th>1</th>\n",
       "      <td>1</td>\n",
       "      <td>b</td>\n",
       "      <td>20.0</td>\n",
       "      <td>51</td>\n",
       "      <td>1020.0</td>\n",
       "    </tr>\n",
       "    <tr>\n",
       "      <th>2</th>\n",
       "      <td>1</td>\n",
       "      <td>c</td>\n",
       "      <td>0.0</td>\n",
       "      <td>65</td>\n",
       "      <td>0.0</td>\n",
       "    </tr>\n",
       "    <tr>\n",
       "      <th>3</th>\n",
       "      <td>1</td>\n",
       "      <td>d</td>\n",
       "      <td>55.0</td>\n",
       "      <td>86</td>\n",
       "      <td>4730.0</td>\n",
       "    </tr>\n",
       "    <tr>\n",
       "      <th>4</th>\n",
       "      <td>2</td>\n",
       "      <td>a</td>\n",
       "      <td>80.0</td>\n",
       "      <td>35</td>\n",
       "      <td>2800.0</td>\n",
       "    </tr>\n",
       "    <tr>\n",
       "      <th>5</th>\n",
       "      <td>2</td>\n",
       "      <td>b</td>\n",
       "      <td>45.0</td>\n",
       "      <td>41</td>\n",
       "      <td>1845.0</td>\n",
       "    </tr>\n",
       "    <tr>\n",
       "      <th>6</th>\n",
       "      <td>2</td>\n",
       "      <td>c</td>\n",
       "      <td>0.0</td>\n",
       "      <td>69</td>\n",
       "      <td>0.0</td>\n",
       "    </tr>\n",
       "    <tr>\n",
       "      <th>7</th>\n",
       "      <td>2</td>\n",
       "      <td>d</td>\n",
       "      <td>0.0</td>\n",
       "      <td>79</td>\n",
       "      <td>0.0</td>\n",
       "    </tr>\n",
       "    <tr>\n",
       "      <th>8</th>\n",
       "      <td>3</td>\n",
       "      <td>a</td>\n",
       "      <td>0.0</td>\n",
       "      <td>99</td>\n",
       "      <td>0.0</td>\n",
       "    </tr>\n",
       "    <tr>\n",
       "      <th>9</th>\n",
       "      <td>3</td>\n",
       "      <td>b</td>\n",
       "      <td>0.0</td>\n",
       "      <td>68</td>\n",
       "      <td>0.0</td>\n",
       "    </tr>\n",
       "    <tr>\n",
       "      <th>10</th>\n",
       "      <td>3</td>\n",
       "      <td>c</td>\n",
       "      <td>70.0</td>\n",
       "      <td>38</td>\n",
       "      <td>2660.0</td>\n",
       "    </tr>\n",
       "    <tr>\n",
       "      <th>11</th>\n",
       "      <td>3</td>\n",
       "      <td>d</td>\n",
       "      <td>30.0</td>\n",
       "      <td>68</td>\n",
       "      <td>2040.0</td>\n",
       "    </tr>\n",
       "  </tbody>\n",
       "</table>\n",
       "</div>"
      ],
      "text/plain": [
       "    CD Local  Cantidad a Enviar  costo unitario   costo\n",
       "0    1     a                0.0              46     0.0\n",
       "1    1     b               20.0              51  1020.0\n",
       "2    1     c                0.0              65     0.0\n",
       "3    1     d               55.0              86  4730.0\n",
       "4    2     a               80.0              35  2800.0\n",
       "5    2     b               45.0              41  1845.0\n",
       "6    2     c                0.0              69     0.0\n",
       "7    2     d                0.0              79     0.0\n",
       "8    3     a                0.0              99     0.0\n",
       "9    3     b                0.0              68     0.0\n",
       "10   3     c               70.0              38  2660.0\n",
       "11   3     d               30.0              68  2040.0"
      ]
     },
     "execution_count": 25,
     "metadata": {},
     "output_type": "execute_result"
    }
   ],
   "source": [
    "output"
   ]
  }
 ],
 "metadata": {
  "kernelspec": {
   "display_name": "Python 3 (ipykernel)",
   "language": "python",
   "name": "python3"
  },
  "language_info": {
   "codemirror_mode": {
    "name": "ipython",
    "version": 3
   },
   "file_extension": ".py",
   "mimetype": "text/x-python",
   "name": "python",
   "nbconvert_exporter": "python",
   "pygments_lexer": "ipython3",
   "version": "3.11.4"
  }
 },
 "nbformat": 4,
 "nbformat_minor": 5
}
